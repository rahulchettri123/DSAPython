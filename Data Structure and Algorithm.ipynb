{
 "cells": [
  {
   "cell_type": "markdown",
   "id": "7484457e",
   "metadata": {},
   "source": [
    "### LinkedList"
   ]
  },
  {
   "cell_type": "code",
   "execution_count": 4,
   "id": "730b2167",
   "metadata": {},
   "outputs": [],
   "source": [
    "class Node :\n",
    "    def __init__(self,value):\n",
    "        self.value = value\n",
    "        self.next = None\n",
    "\n",
    "class linkedList:\n",
    "    def __init__(self,value):\n",
    "        new_node = Node(value)\n",
    "        self.head = new_node\n",
    "        self.tail = new_node\n",
    "        self.length = 1\n",
    "        \n",
    "    def print_list(self):\n",
    "        temp = self.head\n",
    "        while temp is not None:\n",
    "            print(temp.value)\n",
    "            temp = temp.next\n",
    "            \n",
    "    def append(self,value):\n",
    "        new_node = Node(value)\n",
    "        if self.length == 0:\n",
    "            self.head = new_node\n",
    "            self.tail = new_node\n",
    "        else:\n",
    "            self.tail.next = new_node\n",
    "            self.tail = new_node\n",
    "        self.length +=1\n",
    "        return True\n",
    "    \n",
    "    def pop(self):\n",
    "        if self.length == 0:\n",
    "            return None\n",
    "        if self.length == 1:\n",
    "            self.head = None\n",
    "            self.tail = None\n",
    "        else:\n",
    "            temp = self.head\n",
    "            prev = self.head\n",
    "            while temp.next is not None:\n",
    "                prev = temp\n",
    "                temp = temp.next\n",
    "            self.tail = prev\n",
    "            self.tail.next = None\n",
    "        self.length -=1\n",
    "        \n",
    "        return temp.value\n",
    "            \n",
    "    def prepend(self,value):\n",
    "        new_node = Node(value)\n",
    "        if self.length == 0:\n",
    "            self.head = new_node\n",
    "            self.tail = new_node\n",
    "        else:\n",
    "            new_node.next = self.head\n",
    "            self.head = new_node\n",
    "        self.length +=1\n",
    "        return True\n",
    "            \n",
    "    def pop_first(self):\n",
    "        if self.length == 0:\n",
    "            return None\n",
    "        temp = self.head\n",
    "        self.head = self.head.next\n",
    "        temp.next = None\n",
    "        self.length -=1\n",
    "        if self.length == 0:\n",
    "            self.head == None\n",
    "            self.tail = None\n",
    "        return temp.value\n",
    "     \n",
    "    def get(self,index):\n",
    "        if index<0 and index>=self.length:\n",
    "            return None\n",
    "        temp = self.head\n",
    "        for _ in range(index):\n",
    "            temp = temp.next\n",
    "        return temp\n",
    "        \n",
    "        \n",
    "    def set_value(self,index,value):\n",
    "        temp = self.get(index)\n",
    "        if temp :\n",
    "            temp.value= value\n",
    "            return True\n",
    "        return False\n",
    "        \n",
    "    def insert(self,index,value):\n",
    "        if index<0 and index>self.length:\n",
    "            return None\n",
    "        if index == 0:\n",
    "            return self.prepend(value)\n",
    "        if index == self.length:\n",
    "            return self.append(value)\n",
    "        new_node = Node(value)\n",
    "        temp = self.get(index-1)\n",
    "        new_node.next = temp.next\n",
    "        temp.next = new_node\n",
    "        self.length+=1\n",
    "        return True\n",
    "        \n",
    "    def remove(self,index):\n",
    "        if index < 0 and index >=self.length:\n",
    "            return None\n",
    "        if index == 0:\n",
    "            return self.pop_first()\n",
    "        if index == self.length-1:\n",
    "            return self.pop()\n",
    "        prev = self.get(index-1)\n",
    "        temp = prev.next\n",
    "        prev.next = temp.next\n",
    "        self.length -=1\n",
    "        return temp\n",
    "        \n",
    "    def reverse(self):\n",
    "        prev = None\n",
    "        current = self.head\n",
    "        while current:\n",
    "            next_node = current.next\n",
    "            current.next = prev\n",
    "            prev = current\n",
    "            current = next_node\n",
    "        self.head = prev\n",
    "        return True\n",
    "    \n",
    "    #find_middle_node without length attribute\n",
    "    \n",
    "    def find_middle_node(self):\n",
    "        fast = self.head\n",
    "        slow = self.head\n",
    "        while fast is not None and fast.next is not None:\n",
    "            slow = slow.next\n",
    "            fast = fast.next.next\n",
    "        return slow\n",
    "    \n",
    "    #detect whether LL has loop or not\n",
    "    def has_loop(self):\n",
    "        slow = self.head\n",
    "        fast = self.head\n",
    "        while fast is not None and fast.next is not None:\n",
    "            slow = slow.next\n",
    "            fast = fast.next.next\n",
    "            if fast == slow:\n",
    "                return True\n",
    "        return False\n",
    "             \n",
    "    #find kth element from end without length attribute\n",
    "    \n",
    "    def find_kth_from_end(ll,k):\n",
    "        slow = ll.head\n",
    "        fast = ll.head\n",
    "        for _ in range(k):\n",
    "            if fast is None:\n",
    "                return None\n",
    "            fast = fast.next\n",
    "      \n",
    "        while fast :\n",
    "            slow = slow.next\n",
    "            fast = fast.next\n",
    "        return slow\n",
    "    \n",
    "    # Partition List\n",
    "    \n",
    "    def partition_list(self,x):\n",
    "        if self.head ==None:\n",
    "            return None\n",
    "        dummy1 = Node(0)\n",
    "        dummy2 = Node(0)\n",
    "        prev1 = dummy1\n",
    "        prev2 = dummy2\n",
    "        current = self.head\n",
    "        while current is not None:\n",
    "            if current.value < x:\n",
    "                prev1.next = current\n",
    "                prev1 = current\n",
    "            else:\n",
    "                prev2.next = current\n",
    "                prev2 = current\n",
    "            current = current.next\n",
    "        prev2.next = None\n",
    "        prev1.next = None\n",
    "        prev1.next = dummy2.next\n",
    "        self.head = dummy1.next\n",
    "        \n",
    "    #removes dublicat\n",
    "    \n",
    "    def remove_duplicates(self):\n",
    "        values = set()\n",
    "        prev = None\n",
    "        curr = self.head\n",
    "        while curr is not None:\n",
    "            if curr.value in values:\n",
    "                prev.next = curr.next\n",
    "                self.length -= 1\n",
    "            else:\n",
    "                values.add(curr.value)\n",
    "                prev = curr\n",
    "            curr = curr.next\n",
    "            \n",
    "    #binary to decimal\n",
    "    \n",
    "    def binary_to_decimal(self):\n",
    "        num = 0\n",
    "        current = self.head\n",
    "        while current:\n",
    "            num = num * 2 + current.value\n",
    "            current = current.next\n",
    "        return num\n",
    "    \n",
    "    #reverse between m and n \n",
    "        \n",
    "    def reverse_between(self,m,n):\n",
    "        if self.length<=1:\n",
    "            return None\n",
    "        dummy= Node(0)\n",
    "        dummy.next = self.head\n",
    "        prev = dummy\n",
    "        for i in range(m):\n",
    "            prev = prev.next\n",
    "        curr = prev.next\n",
    "        for i in range(n-m):\n",
    "            # temp' will point to the next node in line that we want to reverse.\n",
    "            temp = curr.next\n",
    "            # Disconnect 'temp' from the list and point 'current' to the node after 'temp'.\n",
    "            curr.next = temp.next\n",
    "            # Prepare to insert 'temp' to its new position. Connect 'temp' to the node immediately after 'prev'.\n",
    "            temp.next = prev.next\n",
    "             # Now, connect 'prev' to 'temp' completing its new placement in the reversed segment.\n",
    "            prev.next = temp\n",
    "            # If m was 0, then we reversed from the start and we need to update the head of the list.\n",
    "        self.head = dummy.next\n",
    "        \n",
    "            \n",
    "        \n",
    "        "
   ]
  },
  {
   "cell_type": "markdown",
   "id": "e733a49d",
   "metadata": {},
   "source": [
    "#### interview question "
   ]
  },
  {
   "cell_type": "markdown",
   "id": "097c8c81",
   "metadata": {},
   "source": [
    "1) Find middle node"
   ]
  },
  {
   "cell_type": "code",
   "execution_count": null,
   "id": "9057b3a8",
   "metadata": {},
   "outputs": [],
   "source": [
    "def find_middle_node(self):\n",
    "        fast = self.head\n",
    "        slow = self.head\n",
    "        while fast is not None and fast.next is not None:\n",
    "            slow = slow.next\n",
    "            fast = fast.next.next\n",
    "        return slow"
   ]
  },
  {
   "cell_type": "markdown",
   "id": "97c1dd61",
   "metadata": {},
   "source": [
    "2) has loop "
   ]
  },
  {
   "cell_type": "code",
   "execution_count": null,
   "id": "6034eecc",
   "metadata": {},
   "outputs": [],
   "source": [
    "def has_loop(self):\n",
    "        slow = self.head\n",
    "        fast = self.head\n",
    "        while fast is not None and fast.next is not None:\n",
    "            slow = slow.next\n",
    "            fast = fast.next.next\n",
    "            if fast == slow:\n",
    "                return True\n",
    "        return False"
   ]
  },
  {
   "cell_type": "markdown",
   "id": "d61b8d25",
   "metadata": {},
   "source": [
    "3) find_kth_from_end"
   ]
  },
  {
   "cell_type": "code",
   "execution_count": 22,
   "id": "1fe56266",
   "metadata": {},
   "outputs": [],
   "source": [
    "def find_kth_from_end(ll,k):\n",
    "        slow = ll.head\n",
    "        fast = ll.head\n",
    "        for _ in range(k):\n",
    "            if fast is None:\n",
    "                return None\n",
    "            fast = fast.next\n",
    "      \n",
    "        while fast :\n",
    "            slow = slow.next\n",
    "            fast = fast.next\n",
    "        return slow"
   ]
  },
  {
   "cell_type": "markdown",
   "id": "1362e37f",
   "metadata": {},
   "source": [
    "4) Partition List"
   ]
  },
  {
   "cell_type": "code",
   "execution_count": null,
   "id": "81338a03",
   "metadata": {},
   "outputs": [],
   "source": [
    "def partition_list(self,x):\n",
    "        if self.head ==None:\n",
    "            return None\n",
    "        dummy1 = Node(0)\n",
    "        dummy2 = Node(0)\n",
    "        prev1 = dummy1\n",
    "        prev2 = dummy2\n",
    "        current = self.head\n",
    "        while current is not None:\n",
    "            if current.value < x:\n",
    "                prev1.next = current\n",
    "                prev1 = current\n",
    "            else:\n",
    "                prev2.next = current\n",
    "                prev2 = current\n",
    "            current = current.next\n",
    "        prev2.next = None\n",
    "        prev1.next = None\n",
    "        prev1.next = dummy2.next\n",
    "        self.head = dummy1.next"
   ]
  },
  {
   "cell_type": "markdown",
   "id": "f29ea6c9",
   "metadata": {},
   "source": [
    "5)  remove dublicates"
   ]
  },
  {
   "cell_type": "code",
   "execution_count": null,
   "id": "3e5ffd29",
   "metadata": {},
   "outputs": [],
   "source": [
    "def remove_duplicates(self):\n",
    "        values = set()\n",
    "        prev = None\n",
    "        curr = self.head\n",
    "        while curr is not None:\n",
    "            if curr.value in values:\n",
    "                prev.next = curr.next\n",
    "                self.length -= 1\n",
    "            else:\n",
    "                values.add(curr.value)\n",
    "                prev = curr\n",
    "            curr = curr.next"
   ]
  },
  {
   "cell_type": "markdown",
   "id": "17582847",
   "metadata": {},
   "source": [
    "6) binary to decimal"
   ]
  },
  {
   "cell_type": "code",
   "execution_count": null,
   "id": "987e5c5b",
   "metadata": {},
   "outputs": [],
   "source": [
    "def binary_to_decimal(self):\n",
    "        num = 0\n",
    "        current = self.head\n",
    "        while current:\n",
    "            num = num * 2 + current.value\n",
    "            current = current.next\n",
    "        return num"
   ]
  },
  {
   "cell_type": "markdown",
   "id": "40dc345f",
   "metadata": {},
   "source": [
    "7) Reverse Between"
   ]
  },
  {
   "cell_type": "code",
   "execution_count": null,
   "id": "bc60b114",
   "metadata": {},
   "outputs": [],
   "source": [
    "def reverse_between(self,m,n):\n",
    "        if self.length<=1:\n",
    "            return None\n",
    "        dummy= Node(0)\n",
    "        dummy.next = self.head\n",
    "        prev = dummy\n",
    "        for i in range(m):\n",
    "            prev = prev.next\n",
    "        curr = prev.next\n",
    "        for i in range(n-m):\n",
    "            # temp' will point to the next node in line that we want to reverse.\n",
    "            temp = curr.next\n",
    "            # Disconnect 'temp' from the list and point 'current' to the node after 'temp'.\n",
    "            curr.next = temp.next\n",
    "            # Prepare to insert 'temp' to its new position. Connect 'temp' to the node immediately after 'prev'.\n",
    "            temp.next = prev.next\n",
    "             # Now, connect 'prev' to 'temp' completing its new placement in the reversed segment.\n",
    "            prev.next = temp\n",
    "            # If m was 0, then we reversed from the start and we need to update the head of the list.\n",
    "        self.head = dummy.next"
   ]
  },
  {
   "cell_type": "markdown",
   "id": "ef1113aa",
   "metadata": {},
   "source": [
    "### Doubly Linked List"
   ]
  },
  {
   "cell_type": "code",
   "execution_count": 176,
   "id": "8f27583c",
   "metadata": {},
   "outputs": [],
   "source": [
    "class Node:\n",
    "    def __init__(self,value):\n",
    "        self.value = value\n",
    "        self.next = None\n",
    "        self.prev = None\n",
    "        \n",
    "class doublyLinkedList:\n",
    "    def __init__(self,value):\n",
    "        new_node = Node(value)\n",
    "        self.head = new_node\n",
    "        self.tail = new_node\n",
    "        self.length = 1\n",
    "        \n",
    "    def print_list(self):\n",
    "        temp = self.head\n",
    "        while temp is not None:\n",
    "            print(temp.value)\n",
    "            temp = temp.next\n",
    "            \n",
    "    def append(self,value):\n",
    "        new_node = Node(value)\n",
    "        if self.length == 0:\n",
    "            self.head = new_node\n",
    "            self.tail = new_node\n",
    "        else:\n",
    "            self.tail.next = new_node\n",
    "            new_node.prev = self.tail\n",
    "            self.tail = new_node\n",
    "        self.length+=1\n",
    "        return True\n",
    "    \n",
    "    def pop(self):\n",
    "        if self.length == 0:\n",
    "            return None\n",
    "        temp = self.tail\n",
    "        if self.length == 1:\n",
    "            self.head = None\n",
    "            self.tail = None\n",
    "        else:\n",
    "            self.tail = self.tail.prev\n",
    "            self.tail.next = None\n",
    "            temp.prev = None\n",
    "        self.length -=1\n",
    "        return temp\n",
    "    \n",
    "    def prepend(self,value):\n",
    "        new_node = Node(value)\n",
    "        if self.length == 0:\n",
    "            self.head = new_node\n",
    "            self.tail = new_node\n",
    "        else:   \n",
    "            new_node.next = self.head\n",
    "            self.head.prev = new_node\n",
    "            self.head = new_node\n",
    "        self.length +=1\n",
    "        return true\n",
    "    \n",
    "    def pop_first(self):\n",
    "        temp = self.head\n",
    "        if self.length == 0:\n",
    "            return None\n",
    "        elif self.length == 1:\n",
    "            self.head = None\n",
    "            self.tail = None\n",
    "        else:\n",
    "            self.head = self.head.next\n",
    "            self.head.prev = None\n",
    "            temp.next = None\n",
    "        self.length -=1\n",
    "        return temp\n",
    "    \n",
    "    def get(self,index):\n",
    "        if index<0 and index>=self.length:\n",
    "            return False\n",
    "        temp = self.head\n",
    "        if index < self.length/2: \n",
    "            for _ in range(index):\n",
    "                temp = temp.next\n",
    "        else:\n",
    "            temp = self.tail\n",
    "            for _ in range(self.length -1,index,-1):\n",
    "                temp = temp.prev   \n",
    "        return temp.value\n",
    "    \n",
    "    def set_value(self,index,value):\n",
    "        temp = self.get(index)\n",
    "        if temp:\n",
    "            temp.value = value\n",
    "            return True\n",
    "        return False\n",
    "            \n",
    "    def insert(self,index,value):\n",
    "        if index<0 and index>self.length:\n",
    "            return False\n",
    "        if index == 0:\n",
    "            return self.prepend(value)\n",
    "        if index == self.length:\n",
    "            return self.append(value)\n",
    "        new_node = Node(value)\n",
    "        before = self.get(index-1)\n",
    "        after = before.next\n",
    "        new_node.prev = before\n",
    "        new_node.next = after\n",
    "        before.next = new_node\n",
    "        after.prev = new_node\n",
    "        self.length += 1\n",
    "        return True\n",
    "    \n",
    "    def remove(self,index):\n",
    "        if index<0 and index>=self.length:\n",
    "            return None\n",
    "        if index == 0:\n",
    "            return self.pop_first()\n",
    "        if index == self.length-1:\n",
    "            return self.pop()\n",
    "        temp = self.get(index)\n",
    "        temp.next.prev = temp.prev\n",
    "        temp.prev.next = temp.next\n",
    "        temp.next = None\n",
    "        temp.prev = None\n",
    "        self.length -= 1\n",
    "        return temp\n",
    "        \n",
    "        \n",
    "            \n"
   ]
  },
  {
   "cell_type": "markdown",
   "id": "b2752b82",
   "metadata": {},
   "source": [
    "#### interview question "
   ]
  },
  {
   "cell_type": "markdown",
   "id": "3c1b0862",
   "metadata": {},
   "source": [
    "1) Swap the values of the first and last node"
   ]
  },
  {
   "cell_type": "code",
   "execution_count": null,
   "id": "3d78e817",
   "metadata": {},
   "outputs": [],
   "source": [
    "def swap_first_last(self):\n",
    "        if self.head is None or self.head == self.tail:\n",
    "            return \n",
    "        self.head.value,self.tail.value = self.tail.value,self.head.value"
   ]
  },
  {
   "cell_type": "markdown",
   "id": "8c0f90d8",
   "metadata": {},
   "source": [
    "2) Reverses the order of the nodes in the list"
   ]
  },
  {
   "cell_type": "code",
   "execution_count": null,
   "id": "33bdc78c",
   "metadata": {},
   "outputs": [],
   "source": [
    "def reverse(self):\n",
    "        # Initialize 'current_node' to the starting node of the doubly linked list.\n",
    "        curr = self.head\n",
    "        # Traverse through each node of the doubly linked list.\n",
    "        while curr:\n",
    "            # Swap the 'next' and 'prev' pointers of the current node.This effectively reverses the \n",
    "            # direction of the node's pointers.\n",
    "            curr.prev,curr.next = curr.next,curr.prev\n",
    "            # Since the 'next' and 'prev' pointers of the 'current_node' \n",
    "            # have been swapped, we move to what was originally the 'prev' \n",
    "            # node to continue the reversal. \n",
    "            # Note: In a reversed scenario, 'prev' becomes 'next', hence we use 'prev'.    \n",
    "            curr = curr.prev\n",
    "        # After all nodes have been reversed, the original head becomes the tail \n",
    "        # and the original tail becomes the head. Swap the 'head' and 'tail' of the linked list.\n",
    "        self.head,self.tail = self.tail,self.head\n"
   ]
  },
  {
   "cell_type": "markdown",
   "id": "1dc5a21d",
   "metadata": {},
   "source": [
    "3) Palindrome Checker"
   ]
  },
  {
   "cell_type": "code",
   "execution_count": null,
   "id": "23fc3fef",
   "metadata": {},
   "outputs": [],
   "source": [
    "def is_palindrome(self):\n",
    "        if self.length <=1:\n",
    "            return True\n",
    "        else:\n",
    "            forward_node = self.head\n",
    "            backward_node = self.tail\n",
    "            for _ in range(self.length//2):\n",
    "                if forward_node.value != backward_node.value:\n",
    "                    return False\n",
    "                forward_node = forward_node.next\n",
    "                backward_node = backward_node.prev\n",
    "        return True"
   ]
  },
  {
   "cell_type": "markdown",
   "id": "24c94c1b",
   "metadata": {},
   "source": [
    "4) Swap Nodes in Pairs "
   ]
  },
  {
   "cell_type": "code",
   "execution_count": null,
   "id": "6d306884",
   "metadata": {},
   "outputs": [],
   "source": [
    "#for doublylinked list having next and prev\n",
    "def swap_pairs(self):\n",
    "        dummy = Node(0)\n",
    "        dummy.next = self.head\n",
    "        prev = dummy\n",
    "        while self.head and self.head.next:\n",
    "            first_node = self.head\n",
    "            second_node = self.head.next\n",
    "            prev.next = second_node\n",
    "            first_node.next = second_node.next\n",
    "            second_node.next = first_node\n",
    "            second_node.prev = prev\n",
    "            first_node.prev = second_node\n",
    "            if first_node.next:\n",
    "                first_node.next.prev = first_node\n",
    "            self.head = first_node.next\n",
    "            prev = first_node\n",
    "        self.head = dummy.next\n",
    "        if self.head:\n",
    "            self.head.prev = None"
   ]
  },
  {
   "cell_type": "code",
   "execution_count": null,
   "id": "ae0e7c9e",
   "metadata": {},
   "outputs": [],
   "source": [
    "# for linked list having only next    (NEETCODE IO)\n",
    "def swap_pairs(self):\n",
    "        dummy = Node(0)\n",
    "        curr = self.head\n",
    "        prev = dummy\n",
    "        while curr and curr.next:\n",
    "            \n",
    "            #save ptrs\n",
    "            nxtPair = curr.next.next\n",
    "            second = curr.next\n",
    "            \n",
    "            #reverse pair\n",
    "            second.next = curr\n",
    "            curr.next = nxtPair\n",
    "            prev.next = second\n",
    "            \n",
    "            #update ptrs\n",
    "            prev = curr\n",
    "            curr = nxtPair\n",
    "            \n",
    "        return dummy.next"
   ]
  },
  {
   "cell_type": "markdown",
   "id": "27273663",
   "metadata": {},
   "source": [
    "### Stack"
   ]
  },
  {
   "cell_type": "code",
   "execution_count": 217,
   "id": "9362ce8e",
   "metadata": {},
   "outputs": [],
   "source": [
    "class Node :\n",
    "    def __init__(self,value):\n",
    "        self.value = value\n",
    "        self.next = None\n",
    "\n",
    "class Stack:\n",
    "    def __init__(self,value):\n",
    "        new_node = Node(value)\n",
    "        self.top = new_node\n",
    "        self.height = 1\n",
    "        \n",
    "    def print_stack(self):\n",
    "        temp = self.top\n",
    "        while temp is not None:\n",
    "            print(temp.value)\n",
    "            temp = temp.next\n",
    "        \n",
    "    def push(self,value):\n",
    "        new_node = Node(value)\n",
    "        if self.height == 0:\n",
    "            self.top = new_node\n",
    "        else:\n",
    "            new_node.next = self.top\n",
    "            self.top = new_node\n",
    "        self.height += 1\n",
    "        \n",
    "    def pop(self):\n",
    "        if self.height ==0:\n",
    "            return None\n",
    "        temp = self.top\n",
    "        if self.height == 1:\n",
    "            self.top = None\n",
    "        else:\n",
    "            self.top = self.top.next\n",
    "            temp.next = None\n",
    "        self.height -=1\n",
    "        return temp\n",
    "            \n",
    "        "
   ]
  },
  {
   "cell_type": "markdown",
   "id": "308ddd5b",
   "metadata": {},
   "source": [
    "### Queue"
   ]
  },
  {
   "cell_type": "code",
   "execution_count": 278,
   "id": "56d525ad",
   "metadata": {},
   "outputs": [],
   "source": [
    "class Node :\n",
    "    def __init__(self,value):\n",
    "        self.value = value\n",
    "        self.next = None\n",
    "\n",
    "class Queue:\n",
    "    def __init__(self,value):\n",
    "        new_node = Node(value)\n",
    "        self.first = new_node\n",
    "        self.last = new_node\n",
    "        self.length = 1\n",
    "        \n",
    "    def print_queue(self):\n",
    "        temp = self.first\n",
    "        while temp:\n",
    "            print(temp.value)\n",
    "            temp = temp.next\n",
    "        \n",
    "        \n",
    "    def enqueue(self,value):\n",
    "        new_node = Node(value)\n",
    "        if self.length == 0:\n",
    "            self.first = new_node\n",
    "            self.last = new_node\n",
    "        else:\n",
    "            self.last.next = new_node\n",
    "            self.last = new_node\n",
    "        self.length += 1\n",
    "        \n",
    "        \n",
    "    def dequeue(self):\n",
    "        if self.length == 0:\n",
    "            return None\n",
    "        temp = self.first\n",
    "        if self.length == 1:\n",
    "            self.first = None\n",
    "            self.last = None\n",
    "        else:\n",
    "            self.first = self.first.next\n",
    "            temp.next = None\n",
    "        self.length -=1\n",
    "        return temp\n",
    "        "
   ]
  },
  {
   "cell_type": "markdown",
   "id": "3939882f",
   "metadata": {},
   "source": [
    "#### Interview question "
   ]
  },
  {
   "cell_type": "markdown",
   "id": "10be8efa",
   "metadata": {},
   "source": [
    "1) Implement Stack Using a List"
   ]
  },
  {
   "cell_type": "code",
   "execution_count": 295,
   "id": "e69654bf",
   "metadata": {},
   "outputs": [],
   "source": [
    "class Stack:\n",
    "    def __init__(self):\n",
    "        self.stack_list = []\n",
    "        \n",
    "    def print_stack(self):\n",
    "        for i in range(len(self.stack_list)-1, -1, -1):\n",
    "            print(self.stack_list[i])\n",
    "            \n",
    "    def push(self,value):\n",
    "        self.stack_list.append(value)\n",
    "        \n",
    "    def peek(self):\n",
    "        if self.is_empty():\n",
    "            return None\n",
    "        else:\n",
    "            return self.stack_list[-1]\n",
    "        \n",
    "    def is_empty(self):\n",
    "        return len(self.stack_list) == 0\n",
    "    \n",
    "    def pop(self):\n",
    "        if not self.is_empty():\n",
    "            return self.stack_list.pop()\n",
    "        else:\n",
    "            return None\n",
    "        \n",
    "        "
   ]
  },
  {
   "cell_type": "markdown",
   "id": "9a6ba9c4",
   "metadata": {},
   "source": [
    "2) Parentheses Balanced using stack class"
   ]
  },
  {
   "cell_type": "code",
   "execution_count": null,
   "id": "227a7508",
   "metadata": {},
   "outputs": [],
   "source": [
    "def is_balanced_parentheses(p):\n",
    "    stack = Stack()\n",
    "    for ch in p:\n",
    "        if ch == \"(\":\n",
    "            stack.push(ch)\n",
    "        elif ch == \")\":\n",
    "            if stack.is_empty():\n",
    "                return False\n",
    "            stack.pop()\n",
    "    return stack.is_empty()\n",
    "        "
   ]
  },
  {
   "cell_type": "markdown",
   "id": "b3c97825",
   "metadata": {},
   "source": [
    "3) Reversed string using stack class"
   ]
  },
  {
   "cell_type": "code",
   "execution_count": null,
   "id": "1614b8ef",
   "metadata": {},
   "outputs": [],
   "source": [
    "def reverse_string(str):\n",
    "    stack = Stack()\n",
    "    for ch in str:\n",
    "        stack.push(ch)\n",
    "    reversed = \"\"\n",
    "    while not stack.is_empty():\n",
    "        reversed += stack.pop()\n",
    "    return reversed"
   ]
  },
  {
   "cell_type": "markdown",
   "id": "535315b7",
   "metadata": {},
   "source": [
    "4) Sort Stack"
   ]
  },
  {
   "cell_type": "code",
   "execution_count": null,
   "id": "b92dabda",
   "metadata": {},
   "outputs": [],
   "source": []
  },
  {
   "cell_type": "markdown",
   "id": "c5f8b48e",
   "metadata": {},
   "source": [
    "5) Enqueue using Stacks "
   ]
  },
  {
   "cell_type": "code",
   "execution_count": null,
   "id": "c92c0058",
   "metadata": {},
   "outputs": [],
   "source": [
    "def enqueue(self, value):\n",
    "        for _ in range(len(self.stack1)):\n",
    "            self.stack2.append(self.stack1.pop())\n",
    "        self.stack1.append(value)\n",
    "        for _ in range(len(self.stack2)):\n",
    "            self.stack1.append(self.stack2.pop())"
   ]
  },
  {
   "cell_type": "markdown",
   "id": "8a6d31a9",
   "metadata": {},
   "source": [
    "#### TREES"
   ]
  },
  {
   "cell_type": "code",
   "execution_count": 40,
   "id": "8f70859e",
   "metadata": {},
   "outputs": [],
   "source": [
    "class Node:\n",
    "    def __init__(self,value):\n",
    "        self.value = value\n",
    "        self.right = None\n",
    "        self.left = None\n",
    "\n",
    "class BinarySearchTree:\n",
    "    def __init__(self):\n",
    "        self.root = None\n",
    "        \n",
    "    def insert(self,value):\n",
    "        new_node = Node(value)\n",
    "        if self.root == None:\n",
    "            self.root = new_node\n",
    "            return True\n",
    "        temp = self.root\n",
    "        while (True) :\n",
    "            if new_node == temp.value:\n",
    "                return False\n",
    "            if new_node.value < temp.value:\n",
    "                if temp.left is None:\n",
    "                    temp.left = new_node\n",
    "                    return True\n",
    "                temp = temp.left\n",
    "            else:\n",
    "                if temp.right is None:\n",
    "                    temp.right = new_node\n",
    "                    return True\n",
    "                temp = temp.right\n",
    "\n",
    "        \n",
    "    def contains(self,value):\n",
    "        temp = self.root\n",
    "        while temp is not None:\n",
    "            if value < temp.value:\n",
    "                temp = temp.left\n",
    "            elif value > temp.value:\n",
    "                temp = temp.right\n",
    "            else:\n",
    "                return True\n",
    "        return False\n",
    "        \n",
    "    #Breadth First Search\n",
    "    \n",
    "    def BFS(self):\n",
    "        current_node = self.root\n",
    "        queue = []\n",
    "        result = []\n",
    "        queue.append(current_node)\n",
    "        while len(queue)>0:\n",
    "            current_node = queue.pop(0)\n",
    "            result.append(current_node.value)\n",
    "            if current_node.left is not None:\n",
    "                queue.append(current_node.left)\n",
    "            if current_node.right is not None:\n",
    "                queue.append(current_node.right)\n",
    "        return result\n",
    "                \n",
    "    #Depth First Search (Pre-order)\n",
    "    \n",
    "    def DFS_pre_order(self):\n",
    "        results = []\n",
    "        #Traverse recursion method\n",
    "        def traverse(current_node):\n",
    "            results.append(current_node.value)\n",
    "            if current_node.left is not None:\n",
    "                traverse(current_node.left)\n",
    "            if current_node.right is not None:\n",
    "                traverse(current_node.right)\n",
    "        traverse(self.root)\n",
    "        return results\n",
    "    \n",
    "    #Depth First Search (post-order)\n",
    "    \n",
    "    def DFS_post_order(self):\n",
    "        results = []\n",
    "        #Traverse recursion method\n",
    "        def traverse(current_node):\n",
    "            if current_node.left is not None:\n",
    "                traverse(current_node.left)\n",
    "            if current_node.right is not None:\n",
    "                traverse(current_node.right)\n",
    "            results.append(current_node.value)\n",
    "        traverse(self.root)\n",
    "        return results\n",
    "    \n",
    "    #Depth First Search (in-order)\n",
    "    \n",
    "    def DFS_in_order(self):\n",
    "        results = []\n",
    "        #Traverse recursion method\n",
    "        def traverse(current_node):\n",
    "            if current_node.left is not None:\n",
    "                traverse(current_node.left)\n",
    "            results.append(current_node.value)\n",
    "            if current_node.right is not None:\n",
    "                traverse(current_node.right) \n",
    "        traverse(self.root)\n",
    "        return results\n",
    "        \n",
    "    "
   ]
  },
  {
   "cell_type": "markdown",
   "id": "4d0722eb",
   "metadata": {},
   "source": [
    "#### Interview"
   ]
  },
  {
   "cell_type": "markdown",
   "id": "ddb16e71",
   "metadata": {},
   "source": [
    "A) BST: Validate BST "
   ]
  },
  {
   "cell_type": "code",
   "execution_count": null,
   "id": "103e88ab",
   "metadata": {},
   "outputs": [],
   "source": [
    "def is_valid_bst(self):\n",
    "        bst = self.dfs_in_order()\n",
    "        for i in range(1,len(bst)):\n",
    "            if bst[i] <= bst[i-1]:\n",
    "                return False\n",
    "        return True"
   ]
  },
  {
   "cell_type": "markdown",
   "id": "35d6ed7d",
   "metadata": {},
   "source": [
    "B) BST: Kth Smallest Node"
   ]
  },
  {
   "cell_type": "code",
   "execution_count": null,
   "id": "a6cf2834",
   "metadata": {},
   "outputs": [],
   "source": [
    "def kth_smallest(self, k):\n",
    "        stack = []\n",
    "        node = self.root\n",
    "        \n",
    "        while stack or node:\n",
    "            while node:\n",
    "                stack.append(node)\n",
    "                node = node.left\n",
    "            node = stack.pop()\n",
    "            k -= 1\n",
    "            if k == 0:\n",
    "                return node.value\n",
    "            node = node.right\n",
    "        return None    "
   ]
  },
  {
   "cell_type": "code",
   "execution_count": 41,
   "id": "aa82de32",
   "metadata": {},
   "outputs": [
    {
     "data": {
      "text/plain": [
       "True"
      ]
     },
     "execution_count": 41,
     "metadata": {},
     "output_type": "execute_result"
    }
   ],
   "source": [
    "my_ll = BinarySearchTree()\n",
    "my_ll.insert(47)\n",
    "my_ll.insert(21)\n",
    "my_ll.insert(76)\n",
    "my_ll.insert(18)\n",
    "my_ll.insert(27)\n",
    "my_ll.insert(52)\n",
    "my_ll.insert(82)"
   ]
  },
  {
   "cell_type": "code",
   "execution_count": 42,
   "id": "6d095265",
   "metadata": {},
   "outputs": [
    {
     "data": {
      "text/plain": [
       "[18, 27, 21, 52, 82, 76, 47]"
      ]
     },
     "execution_count": 42,
     "metadata": {},
     "output_type": "execute_result"
    }
   ],
   "source": [
    "my_ll.DFS_post_order()"
   ]
  },
  {
   "cell_type": "markdown",
   "id": "e747daf3",
   "metadata": {},
   "source": [
    "#### Hash Table"
   ]
  },
  {
   "cell_type": "code",
   "execution_count": 414,
   "id": "d4df18d4",
   "metadata": {},
   "outputs": [],
   "source": [
    "class HashTable:\n",
    "    def __init__(self, size = 7):\n",
    "        self.data_map = [None] * size\n",
    "        \n",
    "    def __hash(self,key):\n",
    "        my_hash = 0\n",
    "        for letter in key:\n",
    "            my_hash = (my_hash + ord(letter) * 23) % len(self.data_map)\n",
    "        return my_hash\n",
    "    \n",
    "    def print_table(self):\n",
    "        for i ,val in enumerate(self.data_map):\n",
    "            print(i,\": \", val)\n",
    "            \n",
    "    def set_item(self,key,value):\n",
    "        index = self.__hash(key)\n",
    "        if self.data_map[index] == None:\n",
    "            self.data_map[index] = []\n",
    "        self.data_map[index].append([key, value])\n",
    "        \n",
    "    def get_item(self,key):\n",
    "        index = self.__hash(key)\n",
    "        if self.data_map[index] is not None:\n",
    "            for i in range(len(self.data_map[index])):\n",
    "                if self.data_map[index][i][0] == key:\n",
    "                    return self.data_map[index][i][1]\n",
    "        return None\n",
    "    \n",
    "    def keys(self):\n",
    "        all_keys = []\n",
    "        for i in range(len(self.data_map)):\n",
    "            if self.data_map[i] is not None:\n",
    "                for j in range(len(self.data_map[i])):\n",
    "                    all_keys.append(self.data_map[i][j][0])\n",
    "        return all_keys\n",
    "        "
   ]
  },
  {
   "cell_type": "markdown",
   "id": "3c03b4f9",
   "metadata": {},
   "source": [
    "Interview Question"
   ]
  },
  {
   "cell_type": "markdown",
   "id": "dfd9aa12",
   "metadata": {},
   "source": [
    "1) Sub Array sum"
   ]
  },
  {
   "cell_type": "code",
   "execution_count": 430,
   "id": "d22fc036",
   "metadata": {},
   "outputs": [
    {
     "name": "stdout",
     "output_type": "stream",
     "text": [
      "[1, 3]\n",
      "[0, 3]\n",
      "[1, 1]\n",
      "[]\n"
     ]
    }
   ],
   "source": [
    "def subarray_sum(nums,target):\n",
    "    hashmap = {}\n",
    "    currsum = 0\n",
    "    for i,n in enumerate(nums):\n",
    "        currsum += n\n",
    "        if currsum == target:\n",
    "            return [0,i]\n",
    "        if currsum - target in hashmap:\n",
    "            return [hashmap[currsum - target] + 1 ,i]\n",
    "        hashmap[currsum] = i\n",
    "    return []\n",
    "            \n",
    "\n",
    "\n",
    "\n",
    "nums = [1, 2, 3, 4, 5]\n",
    "target = 9\n",
    "print ( subarray_sum(nums, target) )\n",
    "\n",
    "nums = [-1, 2, 3, -4, 5]\n",
    "target = 0\n",
    "print ( subarray_sum(nums, target) )\n",
    "\n",
    "nums = [2, 3, 4, 5, 6]\n",
    "target = 3\n",
    "print ( subarray_sum(nums, target) )\n",
    "\n",
    "nums = []\n",
    "target = 0\n",
    "print ( subarray_sum(nums, target) )\n",
    "\n",
    "\n",
    "\n",
    "\n"
   ]
  },
  {
   "cell_type": "markdown",
   "id": "0bbb5083",
   "metadata": {},
   "source": [
    "### Sets"
   ]
  },
  {
   "cell_type": "markdown",
   "id": "4a23eddf",
   "metadata": {},
   "source": [
    "A) Sets are similar to dictionaries except that instead of having key/value pairs they only have the keys but not the values.\n",
    "\n",
    "B) Sets can only contain unique elements (meaning that duplicates are not allowed). \n",
    "\n",
    "C)They are useful for various operations such as finding the distinct elements in a collection and performing set operations such as union and intersection.\n",
    "\n",
    "D)They are defined by either using curly braces {} or the built-in set() "
   ]
  },
  {
   "cell_type": "markdown",
   "id": "7f0f8243",
   "metadata": {},
   "source": [
    "### Graph"
   ]
  },
  {
   "cell_type": "code",
   "execution_count": 468,
   "id": "228c9c4d",
   "metadata": {},
   "outputs": [],
   "source": [
    "class Graph:\n",
    "    def __init__(self):\n",
    "        self.adj_list = {}\n",
    "    \n",
    "    def print_graph(self):\n",
    "        for vertex in self.adj_list:\n",
    "            print(vertex, \":\" ,self.adj_list[vertex])\n",
    "        \n",
    "    def add_vertex(self,vertex):\n",
    "        if vertex not in self.adj_list.keys():\n",
    "            self.adj_list[vertex] = []\n",
    "            return True\n",
    "        return False\n",
    "    \n",
    "    def add_edge(self,v1,v2):\n",
    "        if v1 in self.adj_list.keys() and v2 in self.adj_list.keys(): \n",
    "            self.adj_list[v1].append(v2)\n",
    "            self.adj_list[v2].append(v1)\n",
    "            return True\n",
    "        return False\n",
    "    \n",
    "    def remove_edge(self,v1,v2):\n",
    "        if v1 in self.adj_list.keys() and v2 in self.adj_list.keys(): \n",
    "            try:\n",
    "                self.adj_list[v1].remove(v2)\n",
    "                self.adj_list[v2].remove(v1)\n",
    "            except ValueError:\n",
    "                pass\n",
    "            return True\n",
    "        return False\n",
    "    \n",
    "    def remove_vertex(self,vertex):\n",
    "        if vertex in self.adj_list.keys():\n",
    "            for other_vertex in self.adj_list[vertex]:\n",
    "                self.adj_list[other_vertex].remove(vertex)\n",
    "            del self.adj_list[vertex]\n",
    "            return True\n",
    "        return False"
   ]
  },
  {
   "cell_type": "code",
   "execution_count": 469,
   "id": "60de933f",
   "metadata": {},
   "outputs": [
    {
     "data": {
      "text/plain": [
       "True"
      ]
     },
     "execution_count": 469,
     "metadata": {},
     "output_type": "execute_result"
    }
   ],
   "source": [
    "my_graph = Graph()\n",
    "my_graph.add_vertex('A')\n",
    "my_graph.add_vertex('B')\n",
    "my_graph.add_vertex('C')\n",
    "my_graph.add_vertex('D')\n",
    "my_graph.add_edge('A','B')\n",
    "my_graph.add_edge('B','C')\n",
    "my_graph.add_edge('C','A')\n",
    "my_graph.add_edge('A','D')\n"
   ]
  },
  {
   "cell_type": "code",
   "execution_count": 472,
   "id": "1bf30674",
   "metadata": {},
   "outputs": [
    {
     "name": "stdout",
     "output_type": "stream",
     "text": [
      "A : ['C', 'D']\n",
      "C : ['A']\n",
      "D : ['A']\n"
     ]
    }
   ],
   "source": [
    "my_graph.print_graph()"
   ]
  },
  {
   "cell_type": "markdown",
   "id": "77152994",
   "metadata": {},
   "source": [
    " ### Heap"
   ]
  },
  {
   "cell_type": "code",
   "execution_count": 487,
   "id": "e3463d90",
   "metadata": {},
   "outputs": [],
   "source": [
    "class MaxHeap:\n",
    "    def __init__(self):\n",
    "        self.heap = []\n",
    "        \n",
    "    def _left_child(self,index):\n",
    "        return 2*index+1\n",
    "    \n",
    "    def _right_child(self,index):\n",
    "        return 2 * index + 2\n",
    "    \n",
    "    def _parent(self,index):\n",
    "        return (index - 1)// 2\n",
    "    \n",
    "    def _swap(self,index1,index2):\n",
    "        self.heap[index1],self.heap[index2] = self.heap[index2],self.heap[index1]\n",
    "    \n",
    "    def insert(self, value):\n",
    "        self.heap.append(value)\n",
    "        current = len(self.heap)-1\n",
    "        while current>0 and self.heap[current] > self.heap[self._parent(current)]:\n",
    "            self._swap(current,self._parent(current))\n",
    "            current = self._parent(current)\n",
    "            \n",
    "    def _sink_down(self, index):\n",
    "        max_index = index\n",
    "        while True:\n",
    "            left_index = self._left_child(index)\n",
    "            right_index = self._right_child(index)\n",
    "            \n",
    "            if (left_index < len(self.heap) and self.heap[left_index] > self.heap[max_index]) :\n",
    "                max_index = left_index\n",
    "                \n",
    "            if (right_index < len(self.heap) and self.heap[right_index] > self.heap[max_index]):\n",
    "                max_index = right_index\n",
    "            \n",
    "            if max_index != index:\n",
    "                self._swap(index, max_index)\n",
    "                index = max_index\n",
    "            else:\n",
    "                return \n",
    "            \n",
    "    def remove(self):\n",
    "        if len(self.heap) == 0:\n",
    "            return None\n",
    "        if len(self.heap) == 1:\n",
    "            return self.heap.pop()\n",
    "        max_value = self.heap[0]\n",
    "        self.heap[0] = self.heap.pop()\n",
    "        self._sink_down(0)\n",
    "        \n",
    "        return max_value\n",
    "    \n",
    "    \n",
    "        \n",
    "            \n",
    "\n",
    "\n",
    "\n",
    "\n"
   ]
  },
  {
   "cell_type": "markdown",
   "id": "4ce6dd5d",
   "metadata": {},
   "source": [
    "#### Interview question"
   ]
  },
  {
   "cell_type": "markdown",
   "id": "80cb5d58",
   "metadata": {},
   "source": [
    "1) Heap: Kth Smallest Element in an Array"
   ]
  },
  {
   "cell_type": "code",
   "execution_count": null,
   "id": "73a88314",
   "metadata": {},
   "outputs": [],
   "source": [
    "def find_kth_smallest(nums, k):\n",
    "    max_heap = MaxHeap()\n",
    "    for num in nums:\n",
    "        max_heap.insert(num)\n",
    "        if len(max_heap.heap) > k:\n",
    "            max_heap.remove()\n",
    " \n",
    "    return max_heap.remove()\n"
   ]
  },
  {
   "cell_type": "markdown",
   "id": "e83253bf",
   "metadata": {},
   "source": [
    "2) Heap: Maximum Element in a Stream"
   ]
  },
  {
   "cell_type": "code",
   "execution_count": 495,
   "id": "e909b509",
   "metadata": {},
   "outputs": [],
   "source": [
    "def stream_max(nums):\n",
    "    max_heap = MaxHeap()\n",
    "    max_stream = []\n",
    " \n",
    "    for num in nums:\n",
    "        max_heap.insert(num)\n",
    "        max_stream.append(max_heap.heap[0])\n",
    " \n",
    "    return max_stream"
   ]
  },
  {
   "cell_type": "markdown",
   "id": "2195abde",
   "metadata": {},
   "source": [
    " ### Recursion"
   ]
  },
  {
   "cell_type": "markdown",
   "id": "77aff87b",
   "metadata": {},
   "source": [
    "A) factorial"
   ]
  },
  {
   "cell_type": "code",
   "execution_count": 507,
   "id": "b982d400",
   "metadata": {},
   "outputs": [],
   "source": [
    "def factorial(n):\n",
    "    if n == 1:\n",
    "        return n\n",
    "    return n * factorial(n-1)"
   ]
  },
  {
   "cell_type": "code",
   "execution_count": 508,
   "id": "b2027346",
   "metadata": {},
   "outputs": [
    {
     "data": {
      "text/plain": [
       "120"
      ]
     },
     "execution_count": 508,
     "metadata": {},
     "output_type": "execute_result"
    }
   ],
   "source": [
    "factorial(5)"
   ]
  },
  {
   "cell_type": "markdown",
   "id": "409572c2",
   "metadata": {},
   "source": [
    "B) Recursive contains Binary Search Tree"
   ]
  },
  {
   "cell_type": "code",
   "execution_count": 510,
   "id": "754ef43d",
   "metadata": {},
   "outputs": [],
   "source": [
    "def __r_contains(self,current_node,value):\n",
    "    if current_node == None:\n",
    "        return False\n",
    "    if value == current_node.value:\n",
    "        return True\n",
    "    if value < cuurent_node.value:\n",
    "        return self.__r_contains(current_node.left,value)\n",
    "    if value > current.node.value:\n",
    "        return self.__r_contains(current_node.right,value)\n",
    "    \n",
    "    \n",
    "def r_contains(self,value):\n",
    "    return self.__r_contains(self.root,value)"
   ]
  },
  {
   "cell_type": "markdown",
   "id": "bdaf52c7",
   "metadata": {},
   "source": [
    "C) Recursive insert Binary Search Tree"
   ]
  },
  {
   "cell_type": "code",
   "execution_count": 511,
   "id": "ad376c96",
   "metadata": {},
   "outputs": [],
   "source": [
    "def __r_insert(self,current_node,value):\n",
    "    if current_node == None:\n",
    "        return Node(value)\n",
    "    if value < current_node.value:\n",
    "        current_node.left = self.__r_insert(current_node.left,value)\n",
    "    if value > current_node.value:\n",
    "        current_node.right = self.__r_insert(current_node.right,value)\n",
    "    return current_node\n",
    "\n",
    "def r_insert(self,value):\n",
    "    if self.root == None:\n",
    "        self.root = Node(value)\n",
    "    self.__r_insert(self.root,value)"
   ]
  },
  {
   "cell_type": "markdown",
   "id": "e1503a38",
   "metadata": {},
   "source": [
    "D) Recursive Delete Binary Search Tree"
   ]
  },
  {
   "cell_type": "code",
   "execution_count": null,
   "id": "059e0f8b",
   "metadata": {},
   "outputs": [],
   "source": [
    "def __r_delete(self,current_node,value):\n",
    "    if current_node == None:\n",
    "        return None\n",
    "    if value < current_node.value:\n",
    "        current_node.left = self.__r_delete(self.current_node.left,value)\n",
    "    elif value > current_node.value:\n",
    "        current_node.right = self.__r_delete(self.currrent_node.right,value)\n",
    "    else:\n",
    "        return current_node #incomplete"
   ]
  },
  {
   "cell_type": "markdown",
   "id": "97438e20",
   "metadata": {},
   "source": [
    "### Sorting "
   ]
  },
  {
   "cell_type": "markdown",
   "id": "39143c3d",
   "metadata": {},
   "source": [
    "A) Bubble Sort"
   ]
  },
  {
   "cell_type": "code",
   "execution_count": 514,
   "id": "d0d3159d",
   "metadata": {},
   "outputs": [
    {
     "data": {
      "text/plain": [
       "[1, 2, 3, 4, 5, 6]"
      ]
     },
     "execution_count": 514,
     "metadata": {},
     "output_type": "execute_result"
    }
   ],
   "source": [
    "def bubble_sort(my_list):\n",
    "    for i in range(len(my_list)-1,0,-1):\n",
    "        for j in range(i):\n",
    "            if my_list[j] > my_list[j+1]:\n",
    "                my_list[j],my_list[j+1] = my_list[j+1],my_list[j]\n",
    "    return my_list\n",
    "list = [4,5,6,3,1,2]\n",
    "bubble_sort(list)"
   ]
  },
  {
   "cell_type": "markdown",
   "id": "c740895f",
   "metadata": {},
   "source": [
    "B) Selection Sort"
   ]
  },
  {
   "cell_type": "code",
   "execution_count": 528,
   "id": "45a7873d",
   "metadata": {},
   "outputs": [
    {
     "data": {
      "text/plain": [
       "[1, 2, 3, 4, 5, 5, 5, 6, 8, 9]"
      ]
     },
     "execution_count": 528,
     "metadata": {},
     "output_type": "execute_result"
    }
   ],
   "source": [
    "def selection_sort(my_list):\n",
    "    for i in range(len(my_list)):\n",
    "        min_index = i\n",
    "        for j in range(i,len(my_list)):\n",
    "            if my_list[j]<my_list[min_index]:\n",
    "                min_index = j\n",
    "        my_list[min_index],my_list[i] = my_list[i],my_list[min_index]       \n",
    "    return my_list\n",
    "\n",
    "list = [4,5,6,3,1,2,5,5,9,8]\n",
    "selection_sort(list)"
   ]
  },
  {
   "cell_type": "markdown",
   "id": "f05c2dec",
   "metadata": {},
   "source": [
    "C) Insertion Sort"
   ]
  },
  {
   "cell_type": "code",
   "execution_count": 547,
   "id": "cd3241c9",
   "metadata": {},
   "outputs": [
    {
     "data": {
      "text/plain": [
       "[1, 2, 3, 4, 5, 5, 5, 6, 8, 9]"
      ]
     },
     "execution_count": 547,
     "metadata": {},
     "output_type": "execute_result"
    }
   ],
   "source": [
    "def insertion_sort(my_list):\n",
    "    for i in range(len(my_list)):\n",
    "        j = i-1\n",
    "        while j >=0 and my_list[i]<my_list[j]:\n",
    "            my_list[i],my_list[j] = my_list[j],my_list[i]\n",
    "            i = j\n",
    "            j-=1\n",
    "    return my_list\n",
    "my_list = [4,5,6,3,1,2,5,5,9,8]\n",
    "insertion_sort(my_list)"
   ]
  },
  {
   "cell_type": "markdown",
   "id": "f86f5649",
   "metadata": {},
   "source": [
    "#### Interview Question"
   ]
  },
  {
   "cell_type": "markdown",
   "id": "0d6866f4",
   "metadata": {},
   "source": [
    "A) Bubble sort : The method sorts the linked list in place."
   ]
  },
  {
   "cell_type": "code",
   "execution_count": 548,
   "id": "d382f0af",
   "metadata": {},
   "outputs": [],
   "source": [
    "def bubble_sort(self):\n",
    "        if self.length < 2:\n",
    "            return\n",
    "        sorted_until = None\n",
    "        while self.head.next != sorted_until:\n",
    "            curr = self.head\n",
    "            while curr.next != sorted_until:\n",
    "                next_node = curr.next\n",
    "                if curr.value > next_node.value:\n",
    "                    curr.value,next_node.value = next_node.value,curr.value\n",
    "                curr = curr.next\n",
    "            sorted_until = curr"
   ]
  },
  {
   "cell_type": "markdown",
   "id": "cebb6f2c",
   "metadata": {},
   "source": [
    "B) Selection Sort : The method sorts the linked list in place."
   ]
  },
  {
   "cell_type": "code",
   "execution_count": 550,
   "id": "947645ce",
   "metadata": {},
   "outputs": [],
   "source": [
    "def selection_sort(self):\n",
    "        if self.length < 2:\n",
    "            return\n",
    "        current = self.head\n",
    "        while current.next is not None:\n",
    "            smallest = current\n",
    "            inner_current = current.next\n",
    "            while inner_current is not None:\n",
    "                if inner_current.value < smallest.value:\n",
    "                    smallest = inner_current\n",
    "                inner_current = inner_current.next\n",
    "            if smallest != current:\n",
    "                current.value, smallest.value = smallest.value, current.value        \n",
    "            current = current.next\n",
    "        self.tail = current"
   ]
  },
  {
   "cell_type": "markdown",
   "id": "181d1dfc",
   "metadata": {},
   "source": [
    "C) Insertion Sort "
   ]
  },
  {
   "cell_type": "code",
   "execution_count": 551,
   "id": "10343e68",
   "metadata": {},
   "outputs": [],
   "source": [
    " def insertion_sort(self):\n",
    "        if self.length < 2:\n",
    "            return\n",
    "        \n",
    "        sorted_list_head = self.head\n",
    "        unsorted_list_head = self.head.next\n",
    "        sorted_list_head.next = None\n",
    "        \n",
    "        while unsorted_list_head is not None:\n",
    "            current = unsorted_list_head\n",
    "            unsorted_list_head = unsorted_list_head.next\n",
    "            \n",
    "            if current.value < sorted_list_head.value:\n",
    "                current.next = sorted_list_head\n",
    "                sorted_list_head = current\n",
    "            else:\n",
    "                search_pointer = sorted_list_head\n",
    "                while search_pointer.next is not None and current.value > search_pointer.next.value:\n",
    "                    search_pointer = search_pointer.next\n",
    "                current.next = search_pointer.next\n",
    "                search_pointer.next = current\n",
    "        \n",
    "        self.head = sorted_list_head\n",
    "        temp = self.head\n",
    "        while temp.next is not None:\n",
    "            temp = temp.next\n",
    "        self.tail = temp\n"
   ]
  },
  {
   "cell_type": "markdown",
   "id": "8c1cfa68",
   "metadata": {},
   "source": [
    "#### Merge Sort"
   ]
  },
  {
   "cell_type": "code",
   "execution_count": 1,
   "id": "1c8457ce",
   "metadata": {},
   "outputs": [],
   "source": [
    "def merge(list1,list2):\n",
    "    combined = []\n",
    "    i = 0\n",
    "    j = 0\n",
    "    while i<len(list1) and j <len(list2):\n",
    "        if list1[i] < list2[j]:\n",
    "            combined.append(list1[i])\n",
    "            i+=1\n",
    "        else:\n",
    "            combined.append(list2[j])\n",
    "            j+=1\n",
    "    while i< len(list1):\n",
    "        combined.append(list1[i])\n",
    "        i+=1\n",
    "    while j<len(list2):\n",
    "        combined.append(list2[j])\n",
    "        j+=1\n",
    "    return combined\n",
    "\n",
    "\n",
    "\n",
    "def merge_sort(my_list):\n",
    "    if len(my_list) == 1:\n",
    "        return my_list\n",
    "    mid_index = int(len(my_list)/2)\n",
    "    left = merge_sort(my_list[:mid_index])\n",
    "    right = merge_sort(my_list[mid_index:])\n",
    "    return merge(left,right)\n",
    "    \n",
    "    "
   ]
  },
  {
   "cell_type": "code",
   "execution_count": 2,
   "id": "1062a2ce",
   "metadata": {},
   "outputs": [
    {
     "data": {
      "text/plain": [
       "[1, 2, 3, 4, 5, 6, 7, 8]"
      ]
     },
     "execution_count": 2,
     "metadata": {},
     "output_type": "execute_result"
    }
   ],
   "source": [
    "merge_sort([1,2,7,8,3,4,5,6])"
   ]
  },
  {
   "cell_type": "markdown",
   "id": "f699acd6",
   "metadata": {},
   "source": [
    "#### **Merge Sort Linked List"
   ]
  },
  {
   "cell_type": "code",
   "execution_count": null,
   "id": "cc46cfc5",
   "metadata": {},
   "outputs": [],
   "source": [
    "def merge(self,other_list):\n",
    "        other_head = other_list.head\n",
    "        temp = self.head\n",
    "        dummy = Node(0)\n",
    "        current = dummy\n",
    "        while temp is not None and other_head is not None:\n",
    "            if temp.value < other_head.value:\n",
    "                current.next = temp\n",
    "                temp = temp.next\n",
    "            else:\n",
    "                current.next = other_head\n",
    "                other_head = other_head.next\n",
    "            current = current.next\n",
    "        while temp is not None:\n",
    "            current.next = temp\n",
    "            temp = temp.next\n",
    "            current = current.next\n",
    "        while other_head is not None:\n",
    "            current.next = other_head\n",
    "            other_head = other_head.next\n",
    "            current = current.next\n",
    "            \n",
    "        self.head = dummy.next\n",
    "        self.length +=other_list.length\n",
    "        \n",
    "def find_middle_node(self):\n",
    "        fast = self.head\n",
    "        slow = self.head\n",
    "        while fast is not None and fast.next is not None:\n",
    "            slow = slow.next\n",
    "            fast = fast.next.next\n",
    "        return slow\n",
    "    \n",
    "#now merge_sort\n",
    "\n",
    "def merge_sort(self):\n",
    "    # Base case: If the list is empty or has only one element, it is already sorted\n",
    "    if self.head is None or self.head.next is None:\n",
    "        return\n",
    "\n",
    "    # Find the middle of the linked list\n",
    "    middle = self.find_middle_node()\n",
    "\n",
    "    # Split the linked list into two halves\n",
    "    left_half = LinkedList()\n",
    "    left_half.head = self.head\n",
    "    right_half = LinkedList()\n",
    "    right_half.head = middle.next\n",
    "    middle.next = None  # Disconnect the two halves\n",
    "\n",
    "    # Recursively sort the two halves\n",
    "    left_half.merge_sort()\n",
    "    right_half.merge_sort()\n",
    "\n",
    "    # Merge the sorted halves back together\n",
    "    self.head = self.merge(left_half.head, right_half.head)\n"
   ]
  },
  {
   "cell_type": "markdown",
   "id": "1509302e",
   "metadata": {},
   "source": [
    "#### Pivot & Quick Sort"
   ]
  },
  {
   "cell_type": "code",
   "execution_count": 17,
   "id": "0477280c",
   "metadata": {},
   "outputs": [
    {
     "data": {
      "text/plain": [
       "[1, 2, 3, 3, 4, 5, 5, 6, 7, 7, 8, 9, 10, 21, 23, 34, 56]"
      ]
     },
     "execution_count": 17,
     "metadata": {},
     "output_type": "execute_result"
    }
   ],
   "source": [
    "def swap(my_list,index1,index2):\n",
    "    temp = my_list[index1]\n",
    "    my_list[index1] = my_list[index2]\n",
    "    my_list[index2] = temp\n",
    "    \n",
    "def pivot(my_list,pivot_index,end_index):\n",
    "    swap_index = pivot_index\n",
    "    for i in range(pivot_index+1,end_index+1):\n",
    "        if my_list[i]<my_list[pivot_index]:\n",
    "            swap_index +=1\n",
    "            swap(my_list,swap_index,i)\n",
    "    swap(my_list,pivot_index,swap_index)\n",
    "    return swap_index\n",
    "\n",
    "def quick_sort_helper(my_list,left,right):\n",
    "    if left<right:\n",
    "        pivot_index = pivot(my_list,left,right)\n",
    "        quick_sort_helper(my_list,left,pivot_index-1)\n",
    "        quick_sort_helper(my_list,pivot_index+1,right)\n",
    "    return my_list\n",
    "        \n",
    "def quick_sort(my_list):\n",
    "    return quick_sort_helper(my_list,0,len(my_list)-1)\n",
    "\n",
    "my_list = [4,7,3,1,2,6,5,9,3,5,7,8,10,34,56,21,23]\n",
    "quick_sort(my_list)\n",
    "\n",
    "            "
   ]
  },
  {
   "cell_type": "markdown",
   "id": "2f304ae1",
   "metadata": {},
   "source": [
    "#### Final Interview Question "
   ]
  },
  {
   "cell_type": "markdown",
   "id": "a1aa6454",
   "metadata": {},
   "source": [
    "A) List: Remove Element \n",
    "\n",
    "(Given a list of integers nums and an integer val, write a function remove_element that removes all occurrences of val in the list in-place and returns the new length of the modified list.)"
   ]
  },
  {
   "cell_type": "code",
   "execution_count": null,
   "id": "4b2c2cfd",
   "metadata": {},
   "outputs": [],
   "source": [
    "def remove_element(nums,val):\n",
    "    i = 0\n",
    "    while i<len(nums):\n",
    "        if nums[i] == val:\n",
    "            nums.pop(i) #importent\n",
    "        else:\n",
    "            i+=1\n",
    "    return len(nums)\n",
    "            "
   ]
  },
  {
   "cell_type": "markdown",
   "id": "fa854d4d",
   "metadata": {},
   "source": [
    "B) Find Max Min\n",
    "\n",
    "(Write a Python function that takes a list of integers as input and returns a tuple containing the maximum and minimum values in the list.)"
   ]
  },
  {
   "cell_type": "code",
   "execution_count": null,
   "id": "355b323e",
   "metadata": {},
   "outputs": [],
   "source": [
    "def find_max_min(mylist):\n",
    "    maximum = minimum = mylist[0]\n",
    "    for num in mylist:\n",
    "        if num > maximum:\n",
    "            maximum = num\n",
    "        elif num < minimum:\n",
    "            minimum = num\n",
    "    return maximum,minimum\n",
    "        "
   ]
  },
  {
   "cell_type": "markdown",
   "id": "692ef57a",
   "metadata": {},
   "source": [
    "C) Find Longest String\n",
    "\n",
    "Write a Python function called find_longest_string that takes a list of strings as an input and returns the longest string in the list"
   ]
  },
  {
   "cell_type": "code",
   "execution_count": null,
   "id": "0b71192f",
   "metadata": {},
   "outputs": [],
   "source": [
    "def find_longest_string(str_list):\n",
    "    longest_str = \"\"\n",
    "    for str in str_list:\n",
    "        if len(str) > len(longest_str):\n",
    "            longest_str = str\n",
    "    return longest_str\n",
    "    "
   ]
  },
  {
   "cell_type": "markdown",
   "id": "2dc01872",
   "metadata": {},
   "source": [
    "D) Remove Duplicates\n",
    "\n",
    "(Given a sorted list of integers, rearrange the list in-place such that all unique elements appear at the beginning of the list, followed by the duplicate elements. Your function should return the new length of the list containing only unique elements. Note that you should not create a new list or use any additional data structures to solve this problem. The original list should be modified in-place.\n",
    ")"
   ]
  },
  {
   "cell_type": "code",
   "execution_count": null,
   "id": "c7b44c43",
   "metadata": {},
   "outputs": [],
   "source": [
    "def remove_duplicates(nums):\n",
    "    if not nums:\n",
    "        return 0\n",
    "    i = 1\n",
    "    for j in range(1,len(nums)):\n",
    "        if nums[j]!=nums[j-1]:\n",
    "            nums[i] = nums[j]\n",
    "            i+=1\n",
    "    return i"
   ]
  },
  {
   "cell_type": "markdown",
   "id": "abd8242a",
   "metadata": {},
   "source": [
    "E) Max Profit\n",
    "\n",
    "You are given a list of integers representing stock prices for a certain company over a period of time, where each element in the list corresponds to the stock price for a specific day.\n"
   ]
  },
  {
   "cell_type": "code",
   "execution_count": 43,
   "id": "427328d3",
   "metadata": {},
   "outputs": [],
   "source": [
    "def max_profit(prices):\n",
    "    l = 0\n",
    "    r = 1\n",
    "    maxProfit = 0\n",
    "    while l<r and r<len(prices):\n",
    "        while r<len(prices):\n",
    "            if prices[l] < prices[r]:\n",
    "                profit = prices[r] - prices[l]\n",
    "                maxProfit = max(maxProfit,profit)\n",
    "            else:\n",
    "                l = r\n",
    "            r+=1\n",
    "        l+=1\n",
    "        r+=1\n",
    "    return maxProfit"
   ]
  },
  {
   "cell_type": "markdown",
   "id": "28b6bd5c",
   "metadata": {},
   "source": [
    "F) Rotate \n",
    "\n",
    "You are given a list of n integers and a non-negative integer k.\n",
    "Your task is to write a function called rotate that takes the list of integers and an integer k as input and rotates the list to the right by k steps.\n"
   ]
  },
  {
   "cell_type": "code",
   "execution_count": null,
   "id": "2ea75a50",
   "metadata": {},
   "outputs": [],
   "source": [
    "def rotate(nums, k):\n",
    "    k = k % len(nums)\n",
    "    nums[:] = nums[-k:] + nums[:-k]\n",
    "\n"
   ]
  },
  {
   "cell_type": "markdown",
   "id": "19ddc83d",
   "metadata": {},
   "source": [
    "G) Max Sub Array\n",
    "\n",
    "Given an array of integers nums, write a function max_subarray(nums) that finds the contiguous subarray (containing at least one number) with the largest sum and returns its sum.\n",
    "Remember to also account for an array with 0 items."
   ]
  },
  {
   "cell_type": "code",
   "execution_count": null,
   "id": "dcf9e359",
   "metadata": {},
   "outputs": [],
   "source": [
    "def max_subarray(nums):\n",
    "    if len(nums)== 0:\n",
    "        return 0\n",
    "    max_sum=current_sum = nums[0]\n",
    "    for i in range(1,len(nums)):\n",
    "        current_sum = max(nums[i],current_sum +nums[i])\n",
    "        max_sum = max(max_sum,current_sum)\n",
    "    return max_sum\n"
   ]
  }
 ],
 "metadata": {
  "kernelspec": {
   "display_name": "Python 3 (ipykernel)",
   "language": "python",
   "name": "python3"
  },
  "language_info": {
   "codemirror_mode": {
    "name": "ipython",
    "version": 3
   },
   "file_extension": ".py",
   "mimetype": "text/x-python",
   "name": "python",
   "nbconvert_exporter": "python",
   "pygments_lexer": "ipython3",
   "version": "3.9.12"
  }
 },
 "nbformat": 4,
 "nbformat_minor": 5
}
